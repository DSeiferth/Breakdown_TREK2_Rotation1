{
 "cells": [
  {
   "cell_type": "code",
   "execution_count": 1,
   "metadata": {},
   "outputs": [],
   "source": [
    "import numpy as np\n",
    "import matplotlib.pyplot as plt\n",
    "from ipywidgets import interact,FloatSlider"
   ]
  },
  {
   "cell_type": "code",
   "execution_count": 41,
   "metadata": {},
   "outputs": [],
   "source": [
    "def V(x):\n",
    "    return -x*x/4 + x*x*x*x/8\n",
    "\n",
    "def V_rugged(x,a,f):\n",
    "    return 0.5*(4* a*(-6+f*f*(-1+3*x*x))*np.cos(f*x) + \n",
    "                            f*x*(f**3*x*(-2+x*x) + \n",
    "                                 4*a*(-6+f*f*(-1+x*x))*np.sin(f*x)))/(4*f**4)\n",
    "\n",
    "def V_rugged2(x, a, b):\n",
    "    return (-(0.5 * a * np.cos(b*x))/(b*b) + (1.5  * a * (b*b * x*x - 2)* np.cos(b*x))/(b*b*b*b) \n",
    "            + (0.5 * a * x * (b*b * x*x - 6) * np.sin(b*x))/(b*b*b) \n",
    "            - (0.5 * a * x * np.sin(b*x))/b + 0.125 * x*x*x*x - 0.25 * x*x)\n",
    "\n",
    "def plot_potential(a, b, save):\n",
    "    xrange=np.linspace(-1.5,1.5,500)\n",
    "    fig, ax = plt.subplots()\n",
    "    #plt.ylim((-1,1))\n",
    "    plt.plot(xrange, V(xrange))\n",
    "    plt.plot(xrange, V_rugged(xrange, a, b), label=\"a = %.1f \\nb = %.0f\" %(a , b))\n",
    "    #plt.plot(xrange, V_rugged2(xrange, a, b), label=\"a = %.1f \\nb = %.0f\" %(a , b))\n",
    "    plt.xlabel('x', fontsize=18)\n",
    "    plt.ylabel('V(x)', fontsize=18)\n",
    "    ax.tick_params(axis='both', labelsize=18)\n",
    "    ax.legend(prop={'size':18})\n",
    "    if save == 1:\n",
    "        fig.savefig('plot_potential/potential_a=%.1f_b=%.0f.eps' %(a,b), bbox_inches='tight')"
   ]
  },
  {
   "cell_type": "code",
   "execution_count": 42,
   "metadata": {},
   "outputs": [
    {
     "data": {
      "application/vnd.jupyter.widget-view+json": {
       "model_id": "4df3d76cd8404bcf9cc82c09dd73a30b",
       "version_major": 2,
       "version_minor": 0
      },
      "text/plain": [
       "interactive(children=(FloatSlider(value=1.0, description='a', max=5.0, step=0.5), FloatSlider(value=1.0, descr…"
      ]
     },
     "metadata": {},
     "output_type": "display_data"
    }
   ],
   "source": [
    "interact(plot_potential, a = FloatSlider(value=1,min=0,max=5,step=0.5), \n",
    "         b = FloatSlider(value=1,min=1,max=50,step=1), \n",
    "         save = FloatSlider(value=0,min=0,max=1,step=1)\n",
    "        )\n",
    "plt.show()"
   ]
  },
  {
   "cell_type": "code",
   "execution_count": null,
   "metadata": {},
   "outputs": [],
   "source": []
  }
 ],
 "metadata": {
  "kernelspec": {
   "display_name": "Python 3",
   "language": "python",
   "name": "python3"
  },
  "language_info": {
   "codemirror_mode": {
    "name": "ipython",
    "version": 3
   },
   "file_extension": ".py",
   "mimetype": "text/x-python",
   "name": "python",
   "nbconvert_exporter": "python",
   "pygments_lexer": "ipython3",
   "version": "3.8.5"
  }
 },
 "nbformat": 4,
 "nbformat_minor": 4
}
