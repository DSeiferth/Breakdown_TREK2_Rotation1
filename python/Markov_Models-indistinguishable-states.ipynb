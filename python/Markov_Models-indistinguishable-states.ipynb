{
 "cells": [
  {
   "cell_type": "code",
   "execution_count": 1,
   "metadata": {},
   "outputs": [
    {
     "name": "stdout",
     "output_type": "stream",
     "text": [
      "['Steady_State_Calculation_Spanning_Trees.py', 'Kinesin_Parameters.py', 'Analytic_Quantities.py', 'histogram.eps', 'PDF_Flux_entropy.py', '__pycache__']\n"
     ]
    }
   ],
   "source": [
    "import numpy as np\n",
    "\n",
    "from matplotlib import pyplot as plt\n",
    "import math\n",
    "\n",
    "import time\n",
    "import random\n",
    "import networkx as nx\n",
    "import os\n",
    "\n",
    "import sys\n",
    "path='Bibliotheken/'\n",
    "res2 = os.listdir(path)\n",
    "print(res2)\n",
    "sys.path.append(path)\n",
    "\n",
    "import Steady_State_Calculation_Spanning_Trees as auto\n",
    "import PDF_Flux_entropy as PDF"
   ]
  },
  {
   "cell_type": "code",
   "execution_count": 2,
   "metadata": {},
   "outputs": [
    {
     "name": "stdout",
     "output_type": "stream",
     "text": [
      "A = \n",
      " [[   0. 2000.    0.]\n",
      " [4000.    0. 4000.]\n",
      " [   0.  200.    0.]]\n",
      "steady state p =  [0.08695652 0.04347826 0.86956522]\n"
     ]
    }
   ],
   "source": [
    "exit_open = 1/5e-3\n",
    "A = np.array([[0,2e3,0], [4e3,0,4e3], [0,exit_open,0]])\n",
    "print('A = \\n', A)\n",
    "G=auto.Matrix2Graph(A)\n",
    "p=auto.steady_state(G)\n",
    "print('steady state p = ',p)"
   ]
  },
  {
   "cell_type": "code",
   "execution_count": 3,
   "metadata": {},
   "outputs": [
    {
     "name": "stdout",
     "output_type": "stream",
     "text": [
      "simulated probability ,  p =  [0.09851041 0.04399463 0.85988133]\n"
     ]
    }
   ],
   "source": [
    "# Relaxation into steady state for large T\n",
    "p_sim = PDF.simulation_prob(matrix=A, startState=1, T=1)\n",
    "print('simulated probability ,  p = ', p_sim)"
   ]
  },
  {
   "cell_type": "code",
   "execution_count": 4,
   "metadata": {},
   "outputs": [],
   "source": [
    "def sum_up(matrix, row):\n",
    "    res=0\n",
    "    for i in range(len(matrix)):\n",
    "        res=res+matrix[row][i]\n",
    "        \n",
    "    return res\n",
    "\n",
    "def compare(vector, number):\n",
    "    res=0\n",
    "    for x in vector:\n",
    "        if number<=vector[res]:\n",
    "            return res\n",
    "        else:\n",
    "            res=res+1\n",
    "    return -1\n",
    "\n",
    "def rate_interval(matrix, row):\n",
    "    vec=[]\n",
    "    for col in range(1,len(matrix)+1):\n",
    "        sum=0\n",
    "        for i in range(col):\n",
    "            sum=sum+matrix[row][i]\n",
    "        res=sum/sum_up(matrix, row)\n",
    "        vec.append(res)\n",
    "    #print (vec)\n",
    "    return vec\n",
    "\n",
    "\n",
    "#initialisierung \n",
    "def init(matrix):\n",
    "    sumUp=[]\n",
    "    rateInterval=[]\n",
    "    for row in range(len(matrix)):\n",
    "        sumUp.append(sum_up(matrix,row))\n",
    "        rateInterval.append(rate_interval(matrix,row))\n",
    "    return [sumUp, rateInterval]\n",
    "    #print(sumUp)\n",
    "    #print(rateInterval)\n",
    "\n",
    "\n",
    "\n",
    "def timestep(oldstate, t1, sumUp, rateInterval):\n",
    "    dt=-np.log(np.random.random_sample() )/sumUp[oldstate]\n",
    "    #print(dt)\n",
    "    t1=t1+dt\n",
    "    z1=np.random.random_sample()\n",
    "    #print(z1)\n",
    "    newstate=compare(rateInterval[oldstate], z1)\n",
    "    #print(newstate)\n",
    "    return [newstate, t1]\n",
    "\n",
    "def simulation_traj(matrix, startState, T, sampling_step):\n",
    "    [sumUp, rateInterval]=init(matrix)\n",
    "    t=0.0\n",
    "    state=startState\n",
    "    #memory for trajectory\n",
    "    TIME=[]\n",
    "    states=[]\n",
    "\n",
    "    while t<T:\n",
    "        [state, t]=timestep(state, t, sumUp, rateInterval)\n",
    "        TIME.append(t)\n",
    "        states.append(state)\n",
    "    prob=np.zeros(len(matrix))\n",
    "    \n",
    "    N = int(T/sampling_step)\n",
    "    sample_states = -np.ones(N)\n",
    "    sample_step = 0\n",
    "    \n",
    "    count_too_small = 0\n",
    "    for i in range(len(TIME)-1):\n",
    "        dt_gillespie = TIME[i+1]-TIME[i]\n",
    "        n = int(dt_gillespie/sampling_step)\n",
    "        if n < 1:\n",
    "            count_too_small = count_too_small+1\n",
    "        else:\n",
    "            sample_states[sample_step:sample_step+n] = states[i]\n",
    "            sample_step = sample_step +n\n",
    "        prob[ states[i] ]=prob[ states[i] ] + dt_gillespie\n",
    "    prob=1.0/T*prob\n",
    "    print('number of Gillespie steps', len(states))\n",
    "    print('number of sample steps ', sample_step)\n",
    "    print('number of transitions not seen by sample step', count_too_small)\n",
    "    return [prob, sample_states]"
   ]
  },
  {
   "cell_type": "code",
   "execution_count": 5,
   "metadata": {},
   "outputs": [
    {
     "name": "stdout",
     "output_type": "stream",
     "text": [
      "number of Gillespie steps 734\n",
      "number of sample steps  999919\n",
      "number of transitions not seen by sample step 5\n",
      "steady state p =  [0.08695652 0.04347826 0.86956522]\n",
      "Gillespie prob =  [0.10215505 0.04257229 0.85555159]\n",
      "N =  1000000\n",
      "min =  -1.0\n",
      "max =  2.0\n",
      "number of -1 states (error) 81\n",
      "p_sample =  [0.102066, 0.04239, 0.855463]\n"
     ]
    }
   ],
   "source": [
    "T = 1\n",
    "sampling_step = 1e-6\n",
    "[prob, sample_states] = simulation_traj(matrix=A, startState=1, T=T, sampling_step=sampling_step)\n",
    "\n",
    "# make state 0 and 1 indistinguishable\n",
    "sample_indistinguishable = sample_states.copy()\n",
    "index = sample_states == 1\n",
    "sample_indistinguishable[index] = 0\n",
    "\n",
    "print('steady state p = ',p)\n",
    "print('Gillespie prob = ', prob)\n",
    "N = len(sample_states)\n",
    "print('N = ', N)\n",
    "print('min = ', sample_states.min())\n",
    "print('max = ', sample_states.max())\n",
    "state0 = np.count_nonzero(sample_states == 0)\n",
    "state1 = np.count_nonzero(sample_states == 1)\n",
    "state2 = np.count_nonzero(sample_states == 2)\n",
    "error = np.count_nonzero(sample_states == -1)\n",
    "print('number of -1 states (error)', error)\n",
    "p_sample = [state0/N, state1/N, state2/N ]\n",
    "print('p_sample = ', p_sample)"
   ]
  },
  {
   "cell_type": "code",
   "execution_count": 6,
   "metadata": {},
   "outputs": [
    {
     "name": "stdout",
     "output_type": "stream",
     "text": [
      "1000000\n",
      "1000000\n"
     ]
    }
   ],
   "source": [
    "# Adding noise\n",
    "std_noise1 = 0.1\n",
    "noise1 = np.random.normal(0, std_noise1,N)\n",
    "print(len(noise1))\n",
    "print(len(sample_states))\n",
    "signal_noise1 = sample_indistinguishable + noise1\n",
    "\n",
    "std_noise2 = 0.2\n",
    "noise2 = np.random.normal(0, std_noise2,N)\n",
    "signal_noise2 = sample_indistinguishable + noise2"
   ]
  },
  {
   "cell_type": "code",
   "execution_count": 7,
   "metadata": {},
   "outputs": [],
   "source": [
    "[hist1, bin_edges1] = np.histogram(signal_noise1, density=True, bins=100)\n",
    "[hist2, bin_edges2] = np.histogram(signal_noise2, density=True, bins=100)"
   ]
  },
  {
   "cell_type": "markdown",
   "metadata": {},
   "source": [
    "# Write trajectories to output"
   ]
  },
  {
   "cell_type": "code",
   "execution_count": 20,
   "metadata": {},
   "outputs": [],
   "source": [
    "folder = '3state_model_indistingushable'\n",
    "if not os.path.exists(folder):\n",
    "            os.makedirs(folder)\n",
    "output = folder + '/sample_indistinguishable.txt'\n",
    "np.savetxt(output, sample_states)\n",
    "\n",
    "output = folder + '/signal_noise1.txt'\n",
    "np.savetxt(output, signal_noise1)\n",
    "\n",
    "output = folder + '/signal_noise2.txt'\n",
    "np.savetxt(output, signal_noise1)\n",
    "\n",
    "output = folder + '/matrix.txt'\n",
    "np.savetxt(output, A)\n",
    "        \n",
    "output = folder + '/parameters.txt'\n",
    "f = open(output, 'w')\n",
    "f.write('T \\t {:f} \\n'.format(T))\n",
    "f.write('sampling_step \\t {:f} \\n'.format(sampling_step))\n",
    "f.write('std_noise1 \\t {:f} \\n'.format(std_noise1))\n",
    "f.write('std_noise2 \\t {:f} \\n'.format(std_noise2))\n",
    "f.close()"
   ]
  },
  {
   "cell_type": "markdown",
   "metadata": {},
   "source": [
    "# plot timeseries"
   ]
  },
  {
   "cell_type": "code",
   "execution_count": 19,
   "metadata": {},
   "outputs": [
    {
     "data": {
      "image/png": "[encoded data removed]",
      "text/plain": [
       "<Figure size 432x288 with 1 Axes>"
      ]
     },
     "metadata": {
      "needs_background": "light"
     },
     "output_type": "display_data"
    }
   ],
   "source": [
    "start = 0#10 * 1000\n",
    "subset = int(0.1 * 1/sampling_step )\n",
    "f_size =  14\n",
    "fig, ax = plt.subplots()\n",
    "t = np.arange(0,T,sampling_step)\n",
    "ax.plot(t[0:subset], sample_states[start:start+subset], color='black', label=' no noise')\n",
    "#ax.plot(t[0:subset], sample_indistinguishable[start:start+subset], color='green', label='indistinguishable closed states')\n",
    "ax.plot(t[0:subset], signal_noise1[start:start+subset], color='blue', label='noise: $\\sigma$ = %.2f' %std_noise1, alpha=0.7)\n",
    "#ax.plot(t[0:subset], signal_noise2[0:subset], color='red', label='noise: $\\sigma$ = %.2f' %std_noise2)\n",
    "ax.set_xlabel('time', fontsize=f_size)\n",
    "ax.set_ylabel('current', fontsize=f_size)\n",
    "ax.tick_params(axis='both', labelsize=f_size)\n",
    "ax.legend(prop={'size': 14})\n",
    "fig.tight_layout()\n",
    "fig.savefig(folder+'/timeseries.pdf')\n",
    "plt.show()"
   ]
  },
  {
   "cell_type": "markdown",
   "metadata": {},
   "source": [
    "# Plot distribution"
   ]
  },
  {
   "cell_type": "code",
   "execution_count": 10,
   "metadata": {},
   "outputs": [
    {
     "name": "stderr",
     "output_type": "stream",
     "text": [
      "The PostScript backend does not support transparency; partially transparent artists will be rendered opaque.\n",
      "The PostScript backend does not support transparency; partially transparent artists will be rendered opaque.\n"
     ]
    },
    {
     "data": {
      "image/png": "[encoded data removed]",
      "text/plain": [
       "<Figure size 432x288 with 1 Axes>"
      ]
     },
     "metadata": {
      "needs_background": "light"
     },
     "output_type": "display_data"
    }
   ],
   "source": [
    "f_size =  14\n",
    "fig, ax = plt.subplots()\n",
    "#ax.plot([0,0], [0,p[0]], '-ok', color='black', label='steady-state distr.')\n",
    "#ax.plot([1,1], [0,p[1]], '-ok', color='black')\n",
    "#ax.plot([2,2], [0,p[2]], '-ok', color='black')\n",
    "ax.plot(bin_edges1[:-1], hist1, '-ok', color='blue', label='noise: $\\sigma$ = %.2f' %std_noise1)\n",
    "ax.plot(bin_edges2[:-1], hist2, '-ok', color='red', label='noise: $\\sigma$ = %.2f' %std_noise2)\n",
    "ax.set_xlabel('current', fontsize=f_size)\n",
    "ax.set_ylabel('pdf', fontsize=f_size)\n",
    "ax.tick_params(axis='both', labelsize=f_size)\n",
    "ax.legend(prop={'size': 14})\n",
    "fig.tight_layout()\n",
    "fig.savefig(folder+'/histogram.eps')\n",
    "plt.show()"
   ]
  },
  {
   "cell_type": "code",
   "execution_count": 11,
   "metadata": {},
   "outputs": [],
   "source": [
    "bla = np.array([0,1,2,0,1,2])"
   ]
  },
  {
   "cell_type": "code",
   "execution_count": 9,
   "metadata": {},
   "outputs": [],
   "source": [
    "ind = bla == 1"
   ]
  },
  {
   "cell_type": "code",
   "execution_count": 10,
   "metadata": {},
   "outputs": [
    {
     "data": {
      "text/plain": [
       "array([False,  True, False, False,  True, False])"
      ]
     },
     "execution_count": 10,
     "metadata": {},
     "output_type": "execute_result"
    }
   ],
   "source": [
    "ind"
   ]
  },
  {
   "cell_type": "code",
   "execution_count": 12,
   "metadata": {},
   "outputs": [],
   "source": [
    "bla[ind] = 0"
   ]
  },
  {
   "cell_type": "code",
   "execution_count": 13,
   "metadata": {},
   "outputs": [
    {
     "data": {
      "text/plain": [
       "array([0, 0, 2, 0, 0, 2])"
      ]
     },
     "execution_count": 13,
     "metadata": {},
     "output_type": "execute_result"
    }
   ],
   "source": [
    "bla"
   ]
  },
  {
   "cell_type": "code",
   "execution_count": null,
   "metadata": {},
   "outputs": [],
   "source": []
  }
 ],
 "metadata": {
  "kernelspec": {
   "display_name": "Python 3",
   "language": "python",
   "name": "python3"
  },
  "language_info": {
   "codemirror_mode": {
    "name": "ipython",
    "version": 3
   },
   "file_extension": ".py",
   "mimetype": "text/x-python",
   "name": "python",
   "nbconvert_exporter": "python",
   "pygments_lexer": "ipython3",
   "version": "3.8.5"
  }
 },
 "nbformat": 4,
 "nbformat_minor": 4
}
